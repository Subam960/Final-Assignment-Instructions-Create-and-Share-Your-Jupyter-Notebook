{
  "metadata": {
    "kernelspec": {
      "name": "python",
      "display_name": "Python (Pyodide)",
      "language": "python"
    },
    "language_info": {
      "codemirror_mode": {
        "name": "python",
        "version": 3
      },
      "file_extension": ".py",
      "mimetype": "text/x-python",
      "name": "python",
      "nbconvert_exporter": "python",
      "pygments_lexer": "ipython3",
      "version": "3.8"
    }
  },
  "nbformat_minor": 4,
  "nbformat": 4,
  "cells": [
    {
      "cell_type": "markdown",
      "source": "#Data Science Tools and Ecosystem",
      "metadata": {}
    },
    {
      "cell_type": "markdown",
      "source": "In this notebook, Data Science Tools and Ecosystem are summarized.",
      "metadata": {}
    },
    {
      "cell_type": "markdown",
      "source": "Some of the commonly used languages used by Data Scientists include:  \n\n1 Python: Widely used for its simplicity and versatility, with extensive libraries for data analysis, machine learning, and visualization.  \n2 R: Specialized for statistical analysis and data visualization, popular among statisticians and data scientists.  \n3 SQL: Essential for managing and querying relational databases to retrieve and manipulate data.  \n4 Java: Used in big data ecosystems like Apache Hadoop and Spark for data processing.  \n5 Julia: A high-performance language increasingly used for numerical and scientific computing.",
      "metadata": {}
    },
    {
      "cell_type": "code",
      "source": "Some of the commonly used libraries used by Data Scientists include:  \n\n1 NumPy: Used for numerical computations, including working with arrays and performing mathematical operations.  \n2 Pandas: Provides data manipulation and analysis tools, especially for tabular data in data frames.  \n3 Matplotlib: A popular library for creating static, interactive, and animated visualizations in Python.  \n4 Scikit-learn: A machine learning library that provides tools for classification, regression, clustering, and more.  \n5 TensorFlow: An open-source library for deep learning and artificial intelligence applications.  ",
      "metadata": {
        "trusted": true
      },
      "outputs": [],
      "execution_count": null
    },
    {
      "cell_type": "code",
      "source": "\n| Data Science Tools            |\n|-------------------------------|\n| Jupyter Notebook              |\n| RStudio                       |\n| Apache Zeppelin               |\n",
      "metadata": {
        "trusted": true
      },
      "outputs": [],
      "execution_count": null
    },
    {
      "cell_type": "code",
      "source": "### Below are a few examples of evaluating arithmetic expressions in Python.",
      "metadata": {
        "trusted": true
      },
      "outputs": [],
      "execution_count": null
    },
    {
      "cell_type": "code",
      "source": "# This will convert 200 minutes to hours by dividing by 60\nminutes = 200\nhours = minutes / 60\nhours\n  \n",
      "metadata": {
        "trusted": true
      },
      "outputs": [
        {
          "execution_count": 3,
          "output_type": "execute_result",
          "data": {
            "text/plain": "3.3333333333333335"
          },
          "metadata": {}
        }
      ],
      "execution_count": 3
    },
    {
      "cell_type": "code",
      "source": "## Author  \nShubham Kumar\n",
      "metadata": {
        "trusted": true
      },
      "outputs": [],
      "execution_count": null
    }
  ]
}